{
 "cells": [
  {
   "cell_type": "markdown",
   "metadata": {},
   "source": [
    "# MiniProject  👁️ Image Recognition multiclass classification Landscapes  \n",
    "##  🏢🌲🧊⛰️🌊🏙️\n",
    "### Wesley, Keven, Didier, Celso  "
   ]
  },
  {
   "cell_type": "markdown",
   "metadata": {},
   "source": [
    "### Loading Data 📦"
   ]
  },
  {
   "cell_type": "code",
   "execution_count": 73,
   "metadata": {},
   "outputs": [],
   "source": [
    "import keras\n",
    "from keras.datasets import fashion_mnist\n",
    "from keras.models import Sequential\n",
    "from keras.layers import Dense, Dropout, Flatten, Conv2D, MaxPooling2D\n",
    "from pathlib import Path\n",
    "import os\n",
    "from keras.utils.np_utils import to_categorical\n",
    "import matplotlib.pyplot as plt\n",
    "import numpy as np \n",
    "from keras.preprocessing import image\n",
    "# Load data set x contains the actual images in 32 x 32  \n",
    "# composed of 32x32 images with 3 color channels \n",
    "# mnist = keras.datasets.fashion_mnist\n",
    "# img = image.load_img(\"/home/celso/Documents/DeepLearning/ImageClassification/MiniProject/Data/seg_train/buildings/0.jpg\", target_size=(28, 28),color_mode=\"grayscale\")\n",
    " \n",
    "image_size = (40,40)\n",
    "\n",
    "class_labels = [\n",
    "    \"buildings\",\n",
    "     \"forest\",\n",
    "     \"glacier\",\n",
    "     \"mountain\",\n",
    "     \"sea\",\n",
    "     \"street\"\n",
    "]\n",
    "\n",
    "data_path = \"/home/celso/Documents/DeepLearning/ImageClassification/MiniProject/Data/seg_\"\n",
    "\n",
    "x_train = np.ndarray((0,30,30)) \n",
    "x_test = np.ndarray((0,30,30)) \n",
    "\n",
    "def make_Y(TypeOfSet):\n",
    "    path=data_path+TypeOfSet\n",
    "    Data_dir_content = os.listdir(path)\n",
    "    resulting_y = []\n",
    "\n",
    "    for label in Data_dir_content:\n",
    "        label_dir_content = os.listdir(path+f\"/{label}\")\n",
    "\n",
    "        for _ in range(len(label_dir_content)):\n",
    "            resulting_y.append(class_labels.index(label))\n",
    "\n",
    "    return resulting_y\n",
    "\n",
    "def make_X(TypeOfSet):\n",
    "    path=data_path+TypeOfSet\n",
    "    Data_dir_content = os.listdir(path)\n",
    "    resulting_X = np.ndarray((0,30,30))\n",
    "\n",
    "    for label in Data_dir_content:\n",
    "        label_dir_path=path+f\"/{label}\"\n",
    "        label_dir_content = os.listdir(label_dir_path)\n",
    "\n",
    "        for element in label_dir_content:\n",
    "           processed_img = prepare_img_for_model(label_dir_path+f\"/{element}\")\n",
    "           resulting_X = np.append(resulting_X,processed_img,axis=0)\n",
    "\n",
    "    return resulting_X\n",
    "\n",
    "def prepare_img_for_model(path):\n",
    "    img = image.load_img(path,target_size=(30,30),color_mode=\"grayscale\")\n",
    "    image_as_array = image.img_to_array(img)\n",
    "    image_reshaped = image_as_array.reshape(30,30)\n",
    "    return np.expand_dims( image_reshaped, axis=0)\n",
    "\n",
    "x_test = make_X(\"test\")\n",
    "x_train =make_X(\"train\")\n",
    "\n",
    "\n",
    "x_train = x_train.astype('float32')\n",
    "x_test = x_test.astype('float32')\n",
    "x_train /= 255\n",
    "x_test /= 255\n",
    "\n",
    "\n",
    "y_train = make_Y(\"train\")\n",
    "y_test = make_Y(\"test\")\n",
    "\n",
    "y_train = to_categorical(y_train, 6)\n",
    "y_test = to_categorical(y_test, 6)\n",
    "  "
   ]
  },
  {
   "cell_type": "code",
   "execution_count": 79,
   "metadata": {},
   "outputs": [],
   "source": []
  },
  {
   "cell_type": "code",
   "execution_count": 84,
   "metadata": {},
   "outputs": [
    {
     "name": "stdout",
     "output_type": "stream",
     "text": [
      "Model: \"sequential_1\"\n",
      "_________________________________________________________________\n",
      " Layer (type)                Output Shape              Param #   \n",
      "=================================================================\n",
      " Conv2D_1 (Conv2D)           (None, 30, 30, 32)        320       \n",
      "                                                                 \n",
      " Conv2D_2 (Conv2D)           (None, 28, 28, 32)        9248      \n",
      "                                                                 \n",
      " max_pooling2d_2 (MaxPooling  (None, 14, 14, 32)       0         \n",
      " 2D)                                                             \n",
      "                                                                 \n",
      " dropout_3 (Dropout)         (None, 14, 14, 32)        0         \n",
      "                                                                 \n",
      " Conv2D_3 (Conv2D)           (None, 14, 14, 64)        18496     \n",
      "                                                                 \n",
      " Conv2D_4 (Conv2D)           (None, 12, 12, 64)        36928     \n",
      "                                                                 \n",
      " max_pooling2d_3 (MaxPooling  (None, 6, 6, 64)         0         \n",
      " 2D)                                                             \n",
      "                                                                 \n",
      " dropout_4 (Dropout)         (None, 6, 6, 64)          0         \n",
      "                                                                 \n",
      " flatten_1 (Flatten)         (None, 2304)              0         \n",
      "                                                                 \n",
      " DenseLayer_1 (Dense)        (None, 512)               1180160   \n",
      "                                                                 \n",
      " dropout_5 (Dropout)         (None, 512)               0         \n",
      "                                                                 \n",
      " output_layer (Dense)        (None, 6)                 3078      \n",
      "                                                                 \n",
      "=================================================================\n",
      "Total params: 1,248,230\n",
      "Trainable params: 1,248,230\n",
      "Non-trainable params: 0\n",
      "_________________________________________________________________\n"
     ]
    }
   ],
   "source": [
    "model = Sequential()\n",
    "\n",
    "# 2D convolutional layers for images 1D can fit for other kind like Sound\n",
    "# Params:\n",
    "# 1 filters :how many differnet filters should be in the layer, one filter by pattern\n",
    "# 2 kernel_size : size of the window used when creating the tiles for each image\n",
    "# 3 padding: in case the kernel size doesnt match the corner ignore or fill with 0\n",
    "model.add(Conv2D(filters=32, kernel_size=(3,3), padding=\"same\",activation='relu', input_shape=(30,30,1),name=\"Conv2D_1\"))\n",
    "model.add(Conv2D(filters=32, kernel_size=(3,3),activation='relu', name=\"Conv2D_2\"))\n",
    "\n",
    "#max pooling\n",
    "model.add(MaxPooling2D(pool_size=(2,2)))\n",
    "#Dropout, randomly cut connections, normally used between [25-50]%\n",
    "model.add(Dropout(0.25))\n",
    "\n",
    "model.add(Conv2D(filters=64, kernel_size=(3,3),padding=\"same\", activation='relu', name=\"Conv2D_3\"))\n",
    "model.add(Conv2D(filters=64, kernel_size=(3,3),activation='relu',name=\"Conv2D_4\"))\n",
    "model.add(MaxPooling2D(pool_size=(2,2)))\n",
    "model.add(Dropout(0.25))\n",
    "\n",
    "#To transition from Convolutional layers to Dense layers we need to tell karas that we no longer want to use 2D data\n",
    "model.add(Flatten())\n",
    "model.add(Dense(512,activation='relu', name=\"DenseLayer_1\"))\n",
    "model.add(Dropout(0.5))\n",
    "# when doing classificaton with more than one kind of object we almost always use softmax activator for the output\n",
    "model.add(Dense(6, activation=\"softmax\", name=\"output_layer\"))\n",
    "model.summary()"
   ]
  },
  {
   "cell_type": "code",
   "execution_count": 85,
   "metadata": {},
   "outputs": [],
   "source": [
    "model.compile(\n",
    "    loss=\"categorical_crossentropy\",\n",
    "    optimizer=\"adam\",\n",
    "    metrics=[\"accuracy\"]\n",
    ")"
   ]
  },
  {
   "cell_type": "code",
   "execution_count": 86,
   "metadata": {},
   "outputs": [
    {
     "name": "stdout",
     "output_type": "stream",
     "text": [
      "Epoch 1/3\n",
      "585/585 [==============================] - 21s 35ms/step - loss: 1.2053 - accuracy: 0.5076 - val_loss: 1.0158 - val_accuracy: 0.6080\n",
      "Epoch 2/3\n",
      "  1/585 [..............................] - ETA: 17s - loss: 0.8206 - accuracy: 0.7083"
     ]
    },
    {
     "name": "stderr",
     "output_type": "stream",
     "text": [
      "2022-03-25 15:48:13.733164: W tensorflow/core/framework/cpu_allocator_impl.cc:82] Allocation of 283115520 exceeds 10% of free system memory.\n"
     ]
    },
    {
     "name": "stdout",
     "output_type": "stream",
     "text": [
      "585/585 [==============================] - 22s 37ms/step - loss: 0.9254 - accuracy: 0.6442 - val_loss: 0.8195 - val_accuracy: 0.6783\n",
      "Epoch 3/3\n",
      "585/585 [==============================] - 22s 38ms/step - loss: 0.7896 - accuracy: 0.7037 - val_loss: 0.7308 - val_accuracy: 0.7270\n"
     ]
    },
    {
     "data": {
      "text/plain": [
       "<keras.callbacks.History at 0x7fe196bf62f0>"
      ]
     },
     "execution_count": 86,
     "metadata": {},
     "output_type": "execute_result"
    }
   ],
   "source": [
    "# batch size is how many images we want to fit in to the network at once during the training,\n",
    "# too low it takes too long to train, to high we will run out of memory. typical [32-128]\n",
    "# tensorboard --logdir=/home/celso/Documents/DeepLearning/ImageClassification/MNIST_fashion/logs\n",
    "FirstRun = \"/home/celso/Documents/DeepLearning/ImageClassification/MiniProject/logs/FirstRun\"\n",
    "# PARAMS: \n",
    "# image 30 x 30 x 1 \n",
    "# batch_size=24,\n",
    "# epochs=3,\n",
    "\n",
    "\n",
    "SecondRun = \"/home/celso/Documents/DeepLearning/ImageClassification/MiniProject/logs/SecondRun\"\n",
    "logger =  keras.callbacks.TensorBoard(\n",
    "    log_dir=FirstRun,\n",
    "    # log_dir=SecondRun,\n",
    "    write_graph=True, #log the structure of the model\n",
    "    histogram_freq =5 #how each layer is working (for every 5 passes of the training data)\n",
    ")\n",
    "\n",
    "model.fit(\n",
    "    x_train,\n",
    "    y_train,\n",
    "    batch_size=24,\n",
    "    epochs=3,\n",
    "    validation_data=(x_test, y_test),\n",
    "    shuffle=True,\n",
    "    callbacks=[logger]\n",
    ")\n"
   ]
  },
  {
   "cell_type": "code",
   "execution_count": 87,
   "metadata": {},
   "outputs": [
    {
     "name": "stdout",
     "output_type": "stream",
     "text": [
      "The mean squared error (MSE) for the test data set is: [0.7308340668678284, 0.7269999980926514]\n"
     ]
    }
   ],
   "source": [
    "test_error_rate = model.evaluate(x_test, y_test, verbose=0)\n",
    "print(\"The mean squared error (MSE) for the test data set is: {}\".format(test_error_rate))"
   ]
  },
  {
   "cell_type": "code",
   "execution_count": 88,
   "metadata": {},
   "outputs": [],
   "source": [
    "# Save neural network structure\n",
    "model_structure = model.to_json()\n",
    "f = Path(\"/home/celso/Documents/DeepLearning/ImageClassification/MiniProject/SavedModel/model_structure.json\")\n",
    "f.write_text(model_structure)\n",
    "\n",
    "# Save neural network's trained weights\n",
    "model.save_weights(\"/home/celso/Documents/DeepLearning/ImageClassification/MiniProject/SavedModel/model_weights.h5\")"
   ]
  },
  {
   "cell_type": "code",
   "execution_count": 103,
   "metadata": {},
   "outputs": [
    {
     "name": "stdout",
     "output_type": "stream",
     "text": [
      "[0. 0. 0. 0. 0. 1.]\n",
      "This is image is a glacier - Likelihood: 1.000000\n"
     ]
    },
    {
     "data": {
      "image/png": "[encoded data removed]",
      "text/plain": [
       "<Figure size 432x288 with 1 Axes>"
      ]
     },
     "metadata": {
      "needs_background": "light"
     },
     "output_type": "display_data"
    }
   ],
   "source": [
    "\n",
    "from keras.models import model_from_json\n",
    "from pathlib import Path\n",
    "from keras.preprocessing import image\n",
    "import numpy as np\n",
    " \n",
    "# Load the json file that contains the model's structure\n",
    "\n",
    "f = Path(\"/home/celso/Documents/DeepLearning/ImageClassification/MiniProject/SavedModel/model_structure.json\")\n",
    "model_structure = f.read_text()\n",
    "\n",
    "# Recreate the Keras model object from the json data\n",
    "model = model_from_json(model_structure)\n",
    "\n",
    "# Re-load the model's trained weights\n",
    "model.load_weights(\"/home/celso/Documents/DeepLearning/ImageClassification/MiniProject/SavedModel/model_weights.h5\")\n",
    "\n",
    "# Load an image file to test, resizing it to 32x32 pixels (as required by this model)\n",
    "\n",
    " \n",
    "# img = image.load_img(\"/home/celso/Documents/DeepLearning/ImageClassification/MiniProject/Data/seg_test/sea/20072.jpg\", target_size=(30, 30),color_mode=\"grayscale\")\n",
    "img = image.load_img(\"/home/celso/Documents/DeepLearning/ImageClassification/MiniProject/Data/seg_test/mountain/20157.jpg\", target_size=(30, 30),color_mode=\"grayscale\")\n",
    "# img = image.load_img(\"/home/celso/Documents/DeepLearning/ImageClassification/MiniProject/Data/seg_test/glacier/20059.jpg\", target_size=(30, 30),color_mode=\"grayscale\")\n",
    "\n",
    "# Convert the image to a numpy array\n",
    "\n",
    "image_to_test = image.img_to_array(img)\n",
    "\n",
    "# Add a fourth dimension to the image (since Keras expects a list of images, not a single image)\n",
    "# list_of_images = np.expand_dims(y_test, axis=0)\n",
    "\n",
    "#predicting with an image from test set\n",
    "plt.imshow(x_test[1])\n",
    "\n",
    "# list_of_images = np.expand_dims(x_test[0], axis=0)\n",
    "list_of_images = np.expand_dims(image_to_test, axis=0)\n",
    "\n",
    "print(y_test[0])\n",
    "# Make a prediction using the model\n",
    "results = model.predict(list_of_images)\n",
    "\n",
    "# Since we are only testing one image, we only need to check the first result\n",
    "single_result = results[0]\n",
    "\n",
    "# We will get a likelihood score for all 10 possible classes. Find out which class had the highest score.\n",
    "most_likely_class_index = int(np.argmax(single_result))\n",
    "class_likelihood = single_result[most_likely_class_index]\n",
    "\n",
    "# Get the name of the most likely class\n",
    "class_label = class_labels[most_likely_class_index]\n",
    "\n",
    "# Print the result\n",
    "print(\"This is image is a {} - Likelihood: {:2f}\".format(class_label, class_likelihood))"
   ]
  },
  {
   "cell_type": "code",
   "execution_count": null,
   "metadata": {},
   "outputs": [],
   "source": []
  }
 ],
 "metadata": {
  "interpreter": {
   "hash": "e7370f93d1d0cde622a1f8e1c04877d8463912d04d973331ad4851f04de6915a"
  },
  "kernelspec": {
   "display_name": "Python 3.10.2 64-bit",
   "language": "python",
   "name": "python3"
  },
  "language_info": {
   "codemirror_mode": {
    "name": "ipython",
    "version": 3
   },
   "file_extension": ".py",
   "mimetype": "text/x-python",
   "name": "python",
   "nbconvert_exporter": "python",
   "pygments_lexer": "ipython3",
   "version": "3.10.3"
  },
  "orig_nbformat": 4
 },
 "nbformat": 4,
 "nbformat_minor": 2
}
